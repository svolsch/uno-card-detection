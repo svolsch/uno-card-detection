{
 "cells": [
  {
   "attachments": {},
   "cell_type": "markdown",
   "metadata": {},
   "source": [
    "## Capturing Images for the dataset"
   ]
  },
  {
   "attachments": {},
   "cell_type": "markdown",
   "metadata": {},
   "source": [
    "For numbered cards "
   ]
  },
  {
   "cell_type": "code",
   "execution_count": null,
   "metadata": {},
   "outputs": [],
   "source": [
    "import cv2\n",
    "vc = cv2.VideoCapture(1)\n",
    "img_count = 0\n",
    "special_cards = ['skip', 'reverse','picktwo']\n",
    "while vc.isOpened():\n",
    "    rval, frame = vc.read()    # read video frames again at each loop, as long as the stream is open\n",
    "    cv2.imshow(\"stream\", frame)# display each frame as an image, \"stream\" is the name of the window\n",
    "    key = cv2.waitKey(1)       # allows user intervention without stopping the stream (pause in ms)\n",
    "    if key == 32:\n",
    "        img_name = \"./unocards/g{}.jpg\".format(img_count)\n",
    "        cv2.imwrite(img_name, frame)\n",
    "        img_count += 1\n",
    "    elif key == 27:              # exit on ESC\n",
    "        break\n",
    "cv2.destroyWindow(\"stream\")    # close image window upon exit\n",
    "vc.release()   "
   ]
  },
  {
   "attachments": {},
   "cell_type": "markdown",
   "metadata": {},
   "source": [
    "For Special Cards"
   ]
  },
  {
   "cell_type": "code",
   "execution_count": null,
   "metadata": {},
   "outputs": [],
   "source": [
    "import cv2\n",
    "vc = cv2.VideoCapture(1)\n",
    "img_count = 0\n",
    "i = 0\n",
    "special_cards = ['skip', 'reverse','picktwo']\n",
    "wild_cards = ['pickfour', 'colorswitch']\n",
    "\n",
    "while vc.isOpened():\n",
    "    rval, frame = vc.read()    # read video frames again at each loop, as long as the stream is open\n",
    "    cv2.imshow(\"stream\", frame)# display each frame as an image, \"stream\" is the name of the window\n",
    "    key = cv2.waitKey(1)       # allows user intervention without stopping the stream (pause in ms)\n",
    "    if key == 32:\n",
    "            img_name = \"./unocards/{}.jpg\".format(wild_cards[i])\n",
    "            i+=1\n",
    "            cv2.imwrite(img_name, frame)\n",
    "            \n",
    "    elif key == 27:              # exit on ESC\n",
    "        break\n",
    "cv2.destroyWindow(\"stream\")    # close image window upon exit\n",
    "vc.release()   "
   ]
  },
  {
   "attachments": {},
   "cell_type": "markdown",
   "metadata": {},
   "source": [
    "### Color Detection"
   ]
  },
  {
   "cell_type": "code",
   "execution_count": 7,
   "metadata": {},
   "outputs": [
    {
     "name": "stdout",
     "output_type": "stream",
     "text": [
      "The Uno card is not red\n"
     ]
    }
   ],
   "source": [
    "import cv2\n",
    "import numpy as np\n",
    "img_colour = cv2.imread('./unocards/b1.jpg')   # open the saved image in colour\n",
    "\n",
    "# Image Pre-processing\n",
    "img = cv2.cvtColor(img_colour, cv2.COLOR_BGR2GRAY)   # convert to B/W\n",
    "img_HSV = cv2.cvtColor(img_colour, cv2.COLOR_BGR2HSV) # Convert to HSV\n",
    "img_sm = cv2.blur(img, (7, 7))         # smoothing\n",
    "thr_value, img_th = cv2.threshold(img_sm, 160, 255, cv2.THRESH_BINARY_INV)   # binarisation\n",
    "# img_th = cv2.adaptiveThreshold(img, 255, cv2.ADAPTIVE_THRESH_GAUSSIAN_C, cv2.THRESH_BINARY_INV, 35, 2)\n",
    "kernel = np.ones((3, 3), np.uint8)\n",
    "img_close = cv2.morphologyEx(img_th, cv2.MORPH_CLOSE, kernel)      # morphology correction\n",
    "img_canny = cv2.Canny(img_close, 100, 200)                          # edge detection\n",
    "contours, hierarchy = cv2.findContours(img_close, cv2.RETR_TREE, cv2.CHAIN_APPROX_NONE)   # extract contours on binarised image, not on canny\n",
    "\n",
    "# Select the region of interest i.e the card and crop the background \n",
    "contour1 = contours[1]\n",
    "x, y, w, h = cv2.boundingRect(contour1) # Find the bounding rectangle of contour 1\n",
    "\n",
    "crop_img = img_colour[y:y+h, x:x+w] # Crop the image to the bounding rectangle\n",
    "\n",
    "# Checking for color using HSV ranges\n",
    "\n",
    "# Convert the image to HSV\n",
    "hsv = cv2.cvtColor(crop_img, cv2.COLOR_BGR2HSV)\n",
    "\n",
    "# Define the range of colors for the Uno card\n",
    "\n",
    "# Green color range\n",
    "green_lower = np.array([45, 50, 50])\n",
    "green_upper = np.array([75, 255, 255])\n",
    "green_range = np.array([green_lower, green_upper])\n",
    "\n",
    "# Yellow color range\n",
    "yellow_lower = np.array([22, 50, 50])\n",
    "yellow_upper = np.array([38, 255, 255])\n",
    "yellow_range = np.array([yellow_lower, yellow_upper])\n",
    "\n",
    "# Blue color range\n",
    "blue_lower = np.array([100, 50, 50])\n",
    "blue_upper = np.array([130, 255, 255])\n",
    "blue_range = np.array([blue_lower, blue_upper])\n",
    "\n",
    "# Red color range (two ranges to account for hue wraparound)\n",
    "red_lower1 = np.array([0, 50, 50])\n",
    "red_upper1 = np.array([10, 255, 255])\n",
    "red_lower2 = np.array([170, 50, 50])\n",
    "red_upper2 = np.array([180, 255, 255])\n",
    "red_range = np.array([red_lower1, red_upper1, red_lower2, red_upper2])\n",
    "\n",
    "# Create a mask for the red color\n",
    "mask = cv2.inRange(hsv, red_lower1, red_upper1)\n",
    "\n",
    "# Bitwise-AND mask and original image\n",
    "res = cv2.bitwise_and(crop_img,crop_img, mask= mask)\n",
    "\n",
    "# Check if the card is red\n",
    "if np.any(res):\n",
    "    print(\"The Uno card is red\")\n",
    "else:\n",
    "    print(\"The Uno card is not red\")\n",
    "\n"
   ]
  },
  {
   "cell_type": "code",
   "execution_count": null,
   "metadata": {},
   "outputs": [],
   "source": []
  }
 ],
 "metadata": {
  "kernelspec": {
   "display_name": "Python 3",
   "language": "python",
   "name": "python3"
  },
  "language_info": {
   "codemirror_mode": {
    "name": "ipython",
    "version": 3
   },
   "file_extension": ".py",
   "mimetype": "text/x-python",
   "name": "python",
   "nbconvert_exporter": "python",
   "pygments_lexer": "ipython3",
   "version": "3.10.11"
  },
  "orig_nbformat": 4
 },
 "nbformat": 4,
 "nbformat_minor": 2
}
